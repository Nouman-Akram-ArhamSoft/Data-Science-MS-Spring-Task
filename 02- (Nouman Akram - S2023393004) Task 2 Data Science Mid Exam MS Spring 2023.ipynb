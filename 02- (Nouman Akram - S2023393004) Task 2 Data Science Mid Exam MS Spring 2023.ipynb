{
 "cells": [
  {
   "cell_type": "markdown",
   "id": "2a5a2ccd",
   "metadata": {},
   "source": [
    "# Data Science QUESTION 2\n",
    "\n",
    "  \n",
    "You'll be asked to do some analysis and modeling tasks on a dataset created.  \n",
    "The dataset concerns a video gaming company that has information on its customers and would like to gain more insights on what drives their customers to play for longer hours.  \n",
    "\n",
    "The following tables are provided:"
   ]
  },
  {
   "cell_type": "code",
   "execution_count": 1,
   "id": "40eca3ad",
   "metadata": {},
   "outputs": [],
   "source": [
    "import pandas as pd\n",
    "import numpy as np\n",
    "import matplotlib.pyplot as plt"
   ]
  },
  {
   "cell_type": "code",
   "execution_count": 2,
   "id": "74aff192",
   "metadata": {},
   "outputs": [],
   "source": [
    "df_districts_house_prices = pd.read_csv(\"df_districts_house_prices.csv\")\n",
    "df_person_data = pd.read_csv(\"df_person_data.csv\")\n",
    "df_person_district = pd.read_csv(\"df_person_district.csv\")"
   ]
  },
  {
   "cell_type": "markdown",
   "id": "deadfbac",
   "metadata": {},
   "source": [
    "df_person_district\n",
    "\n",
    "includes information about each customer (person) and the district they live in\n",
    "\n",
    "- person_id: the person id\n",
    "- district: the name of the district"
   ]
  },
  {
   "cell_type": "code",
   "execution_count": 3,
   "id": "d6ab7e38",
   "metadata": {},
   "outputs": [
    {
     "data": {
      "text/html": [
       "<div>\n",
       "<style scoped>\n",
       "    .dataframe tbody tr th:only-of-type {\n",
       "        vertical-align: middle;\n",
       "    }\n",
       "\n",
       "    .dataframe tbody tr th {\n",
       "        vertical-align: top;\n",
       "    }\n",
       "\n",
       "    .dataframe thead th {\n",
       "        text-align: right;\n",
       "    }\n",
       "</style>\n",
       "<table border=\"1\" class=\"dataframe\">\n",
       "  <thead>\n",
       "    <tr style=\"text-align: right;\">\n",
       "      <th></th>\n",
       "      <th>person_id</th>\n",
       "      <th>district</th>\n",
       "    </tr>\n",
       "  </thead>\n",
       "  <tbody>\n",
       "    <tr>\n",
       "      <th>0</th>\n",
       "      <td>50c4c7e2-89a6-440b-a8e3-c44aa2c6150e</td>\n",
       "      <td>Metdunstone</td>\n",
       "    </tr>\n",
       "    <tr>\n",
       "      <th>1</th>\n",
       "      <td>16f3bafb-9556-434e-adab-cb02f41fe32a</td>\n",
       "      <td>Tashnerspool</td>\n",
       "    </tr>\n",
       "    <tr>\n",
       "      <th>2</th>\n",
       "      <td>0fa17eee-7214-4609-97fe-dd3093601800</td>\n",
       "      <td>Tashnerspool</td>\n",
       "    </tr>\n",
       "    <tr>\n",
       "      <th>3</th>\n",
       "      <td>8db4ca66-dfb2-43f2-9c22-aa861dd0d218</td>\n",
       "      <td>Ulven</td>\n",
       "    </tr>\n",
       "    <tr>\n",
       "      <th>4</th>\n",
       "      <td>51fed64a-375e-417f-94e4-4d27c368ea44</td>\n",
       "      <td>Red Onvey</td>\n",
       "    </tr>\n",
       "    <tr>\n",
       "      <th>...</th>\n",
       "      <td>...</td>\n",
       "      <td>...</td>\n",
       "    </tr>\n",
       "    <tr>\n",
       "      <th>69995</th>\n",
       "      <td>8cbea1e2-3257-4db5-ae59-84faa48cfde2</td>\n",
       "      <td>Bluffssel</td>\n",
       "    </tr>\n",
       "    <tr>\n",
       "      <th>69996</th>\n",
       "      <td>e099ace5-a760-4362-a9ea-ae8cee590b86</td>\n",
       "      <td>Highnantmar</td>\n",
       "    </tr>\n",
       "    <tr>\n",
       "      <th>69997</th>\n",
       "      <td>e9b0604e-ec84-4704-8e75-eabfd59ac4fb</td>\n",
       "      <td>Tashnerspool</td>\n",
       "    </tr>\n",
       "    <tr>\n",
       "      <th>69998</th>\n",
       "      <td>e20f8ec5-0ddf-4674-ac1f-d6280b6640ab</td>\n",
       "      <td>Highnantmar</td>\n",
       "    </tr>\n",
       "    <tr>\n",
       "      <th>69999</th>\n",
       "      <td>4d86ea85-2eaf-457a-bdba-73ff21830588</td>\n",
       "      <td>San Readma</td>\n",
       "    </tr>\n",
       "  </tbody>\n",
       "</table>\n",
       "<p>70000 rows × 2 columns</p>\n",
       "</div>"
      ],
      "text/plain": [
       "                                  person_id      district\n",
       "0      50c4c7e2-89a6-440b-a8e3-c44aa2c6150e   Metdunstone\n",
       "1      16f3bafb-9556-434e-adab-cb02f41fe32a  Tashnerspool\n",
       "2      0fa17eee-7214-4609-97fe-dd3093601800  Tashnerspool\n",
       "3      8db4ca66-dfb2-43f2-9c22-aa861dd0d218         Ulven\n",
       "4      51fed64a-375e-417f-94e4-4d27c368ea44     Red Onvey\n",
       "...                                     ...           ...\n",
       "69995  8cbea1e2-3257-4db5-ae59-84faa48cfde2     Bluffssel\n",
       "69996  e099ace5-a760-4362-a9ea-ae8cee590b86   Highnantmar\n",
       "69997  e9b0604e-ec84-4704-8e75-eabfd59ac4fb  Tashnerspool\n",
       "69998  e20f8ec5-0ddf-4674-ac1f-d6280b6640ab   Highnantmar\n",
       "69999  4d86ea85-2eaf-457a-bdba-73ff21830588    San Readma\n",
       "\n",
       "[70000 rows x 2 columns]"
      ]
     },
     "execution_count": 3,
     "metadata": {},
     "output_type": "execute_result"
    }
   ],
   "source": [
    "df_person_district"
   ]
  },
  {
   "cell_type": "markdown",
   "id": "48125f6c",
   "metadata": {},
   "source": [
    "df_districts_house_prices\n",
    "\n",
    "includes information about each district and the prices of the houses in the district\n",
    "\n",
    "- district: the name of the district\n",
    "- house_price: the price of the house\n",
    "- house_number: the house number in the district"
   ]
  },
  {
   "cell_type": "code",
   "execution_count": 4,
   "id": "4d174381",
   "metadata": {},
   "outputs": [
    {
     "data": {
      "text/html": [
       "<div>\n",
       "<style scoped>\n",
       "    .dataframe tbody tr th:only-of-type {\n",
       "        vertical-align: middle;\n",
       "    }\n",
       "\n",
       "    .dataframe tbody tr th {\n",
       "        vertical-align: top;\n",
       "    }\n",
       "\n",
       "    .dataframe thead th {\n",
       "        text-align: right;\n",
       "    }\n",
       "</style>\n",
       "<table border=\"1\" class=\"dataframe\">\n",
       "  <thead>\n",
       "    <tr style=\"text-align: right;\">\n",
       "      <th></th>\n",
       "      <th>district</th>\n",
       "      <th>house_price</th>\n",
       "      <th>house_number</th>\n",
       "    </tr>\n",
       "  </thead>\n",
       "  <tbody>\n",
       "    <tr>\n",
       "      <th>0</th>\n",
       "      <td>Celowsgan</td>\n",
       "      <td>160652.0</td>\n",
       "      <td>1</td>\n",
       "    </tr>\n",
       "    <tr>\n",
       "      <th>1</th>\n",
       "      <td>Celowsgan</td>\n",
       "      <td>159219.0</td>\n",
       "      <td>2</td>\n",
       "    </tr>\n",
       "    <tr>\n",
       "      <th>2</th>\n",
       "      <td>Celowsgan</td>\n",
       "      <td>161543.0</td>\n",
       "      <td>3</td>\n",
       "    </tr>\n",
       "    <tr>\n",
       "      <th>3</th>\n",
       "      <td>Celowsgan</td>\n",
       "      <td>158944.0</td>\n",
       "      <td>4</td>\n",
       "    </tr>\n",
       "    <tr>\n",
       "      <th>4</th>\n",
       "      <td>Celowsgan</td>\n",
       "      <td>164121.0</td>\n",
       "      <td>5</td>\n",
       "    </tr>\n",
       "    <tr>\n",
       "      <th>...</th>\n",
       "      <td>...</td>\n",
       "      <td>...</td>\n",
       "      <td>...</td>\n",
       "    </tr>\n",
       "    <tr>\n",
       "      <th>1358</th>\n",
       "      <td>El Willong</td>\n",
       "      <td>932441.0</td>\n",
       "      <td>30</td>\n",
       "    </tr>\n",
       "    <tr>\n",
       "      <th>1359</th>\n",
       "      <td>El Willong</td>\n",
       "      <td>890190.0</td>\n",
       "      <td>31</td>\n",
       "    </tr>\n",
       "    <tr>\n",
       "      <th>1360</th>\n",
       "      <td>El Willong</td>\n",
       "      <td>892096.0</td>\n",
       "      <td>32</td>\n",
       "    </tr>\n",
       "    <tr>\n",
       "      <th>1361</th>\n",
       "      <td>El Willong</td>\n",
       "      <td>935117.0</td>\n",
       "      <td>33</td>\n",
       "    </tr>\n",
       "    <tr>\n",
       "      <th>1362</th>\n",
       "      <td>El Willong</td>\n",
       "      <td>953480.0</td>\n",
       "      <td>34</td>\n",
       "    </tr>\n",
       "  </tbody>\n",
       "</table>\n",
       "<p>1363 rows × 3 columns</p>\n",
       "</div>"
      ],
      "text/plain": [
       "        district  house_price  house_number\n",
       "0      Celowsgan     160652.0             1\n",
       "1      Celowsgan     159219.0             2\n",
       "2      Celowsgan     161543.0             3\n",
       "3      Celowsgan     158944.0             4\n",
       "4      Celowsgan     164121.0             5\n",
       "...          ...          ...           ...\n",
       "1358  El Willong     932441.0            30\n",
       "1359  El Willong     890190.0            31\n",
       "1360  El Willong     892096.0            32\n",
       "1361  El Willong     935117.0            33\n",
       "1362  El Willong     953480.0            34\n",
       "\n",
       "[1363 rows x 3 columns]"
      ]
     },
     "execution_count": 4,
     "metadata": {},
     "output_type": "execute_result"
    }
   ],
   "source": [
    "df_districts_house_prices"
   ]
  },
  {
   "cell_type": "markdown",
   "id": "2e1c4d8d",
   "metadata": {},
   "source": [
    "df_person_data\n",
    "\n",
    "includes personal information about each of the customers and relevant information to their video gaming habits\n",
    "\n",
    "- person_id: identifier for a person\n",
    "- age: the age of the person\n",
    "- n_kids: the number of kids this person has\n",
    "- n_vg: the number of video games the person owns\n",
    "- n_con: the number of video game consols the person owns\n",
    "- n_presub: the number of premium subscription the person owns\n",
    "- n_hours_playing: the total number of hours this person play per month "
   ]
  },
  {
   "cell_type": "code",
   "execution_count": 5,
   "id": "4425855f",
   "metadata": {},
   "outputs": [
    {
     "data": {
      "text/html": [
       "<div>\n",
       "<style scoped>\n",
       "    .dataframe tbody tr th:only-of-type {\n",
       "        vertical-align: middle;\n",
       "    }\n",
       "\n",
       "    .dataframe tbody tr th {\n",
       "        vertical-align: top;\n",
       "    }\n",
       "\n",
       "    .dataframe thead th {\n",
       "        text-align: right;\n",
       "    }\n",
       "</style>\n",
       "<table border=\"1\" class=\"dataframe\">\n",
       "  <thead>\n",
       "    <tr style=\"text-align: right;\">\n",
       "      <th></th>\n",
       "      <th>person_id</th>\n",
       "      <th>age</th>\n",
       "      <th>n_kids</th>\n",
       "      <th>n_vg</th>\n",
       "      <th>n_con</th>\n",
       "      <th>n_presub</th>\n",
       "      <th>n_hours_playing</th>\n",
       "    </tr>\n",
       "  </thead>\n",
       "  <tbody>\n",
       "    <tr>\n",
       "      <th>0</th>\n",
       "      <td>50c4c7e2-89a6-440b-a8e3-c44aa2c6150e</td>\n",
       "      <td>14.0</td>\n",
       "      <td>0</td>\n",
       "      <td>0</td>\n",
       "      <td>0</td>\n",
       "      <td>0</td>\n",
       "      <td>18.422745</td>\n",
       "    </tr>\n",
       "    <tr>\n",
       "      <th>1</th>\n",
       "      <td>16f3bafb-9556-434e-adab-cb02f41fe32a</td>\n",
       "      <td>18.0</td>\n",
       "      <td>0</td>\n",
       "      <td>2</td>\n",
       "      <td>0</td>\n",
       "      <td>0</td>\n",
       "      <td>20.693273</td>\n",
       "    </tr>\n",
       "    <tr>\n",
       "      <th>2</th>\n",
       "      <td>0fa17eee-7214-4609-97fe-dd3093601800</td>\n",
       "      <td>28.0</td>\n",
       "      <td>0</td>\n",
       "      <td>3</td>\n",
       "      <td>0</td>\n",
       "      <td>0</td>\n",
       "      <td>22.412490</td>\n",
       "    </tr>\n",
       "    <tr>\n",
       "      <th>3</th>\n",
       "      <td>8db4ca66-dfb2-43f2-9c22-aa861dd0d218</td>\n",
       "      <td>20.0</td>\n",
       "      <td>1</td>\n",
       "      <td>72</td>\n",
       "      <td>0</td>\n",
       "      <td>0</td>\n",
       "      <td>299.187025</td>\n",
       "    </tr>\n",
       "    <tr>\n",
       "      <th>4</th>\n",
       "      <td>51fed64a-375e-417f-94e4-4d27c368ea44</td>\n",
       "      <td>32.0</td>\n",
       "      <td>1</td>\n",
       "      <td>58</td>\n",
       "      <td>1</td>\n",
       "      <td>3</td>\n",
       "      <td>20.367141</td>\n",
       "    </tr>\n",
       "    <tr>\n",
       "      <th>...</th>\n",
       "      <td>...</td>\n",
       "      <td>...</td>\n",
       "      <td>...</td>\n",
       "      <td>...</td>\n",
       "      <td>...</td>\n",
       "      <td>...</td>\n",
       "      <td>...</td>\n",
       "    </tr>\n",
       "    <tr>\n",
       "      <th>69995</th>\n",
       "      <td>8cbea1e2-3257-4db5-ae59-84faa48cfde2</td>\n",
       "      <td>32.0</td>\n",
       "      <td>4</td>\n",
       "      <td>62</td>\n",
       "      <td>1</td>\n",
       "      <td>2</td>\n",
       "      <td>21.378288</td>\n",
       "    </tr>\n",
       "    <tr>\n",
       "      <th>69996</th>\n",
       "      <td>e099ace5-a760-4362-a9ea-ae8cee590b86</td>\n",
       "      <td>36.0</td>\n",
       "      <td>0</td>\n",
       "      <td>53</td>\n",
       "      <td>1</td>\n",
       "      <td>1</td>\n",
       "      <td>3.707476</td>\n",
       "    </tr>\n",
       "    <tr>\n",
       "      <th>69997</th>\n",
       "      <td>e9b0604e-ec84-4704-8e75-eabfd59ac4fb</td>\n",
       "      <td>19.0</td>\n",
       "      <td>0</td>\n",
       "      <td>1</td>\n",
       "      <td>1</td>\n",
       "      <td>0</td>\n",
       "      <td>23.809075</td>\n",
       "    </tr>\n",
       "    <tr>\n",
       "      <th>69998</th>\n",
       "      <td>e20f8ec5-0ddf-4674-ac1f-d6280b6640ab</td>\n",
       "      <td>31.0</td>\n",
       "      <td>2</td>\n",
       "      <td>49</td>\n",
       "      <td>3</td>\n",
       "      <td>2</td>\n",
       "      <td>15.708397</td>\n",
       "    </tr>\n",
       "    <tr>\n",
       "      <th>69999</th>\n",
       "      <td>4d86ea85-2eaf-457a-bdba-73ff21830588</td>\n",
       "      <td>20.0</td>\n",
       "      <td>0</td>\n",
       "      <td>3</td>\n",
       "      <td>0</td>\n",
       "      <td>2</td>\n",
       "      <td>30.796314</td>\n",
       "    </tr>\n",
       "  </tbody>\n",
       "</table>\n",
       "<p>70000 rows × 7 columns</p>\n",
       "</div>"
      ],
      "text/plain": [
       "                                  person_id   age  n_kids  n_vg  n_con  \\\n",
       "0      50c4c7e2-89a6-440b-a8e3-c44aa2c6150e  14.0       0     0      0   \n",
       "1      16f3bafb-9556-434e-adab-cb02f41fe32a  18.0       0     2      0   \n",
       "2      0fa17eee-7214-4609-97fe-dd3093601800  28.0       0     3      0   \n",
       "3      8db4ca66-dfb2-43f2-9c22-aa861dd0d218  20.0       1    72      0   \n",
       "4      51fed64a-375e-417f-94e4-4d27c368ea44  32.0       1    58      1   \n",
       "...                                     ...   ...     ...   ...    ...   \n",
       "69995  8cbea1e2-3257-4db5-ae59-84faa48cfde2  32.0       4    62      1   \n",
       "69996  e099ace5-a760-4362-a9ea-ae8cee590b86  36.0       0    53      1   \n",
       "69997  e9b0604e-ec84-4704-8e75-eabfd59ac4fb  19.0       0     1      1   \n",
       "69998  e20f8ec5-0ddf-4674-ac1f-d6280b6640ab  31.0       2    49      3   \n",
       "69999  4d86ea85-2eaf-457a-bdba-73ff21830588  20.0       0     3      0   \n",
       "\n",
       "       n_presub  n_hours_playing  \n",
       "0             0        18.422745  \n",
       "1             0        20.693273  \n",
       "2             0        22.412490  \n",
       "3             0       299.187025  \n",
       "4             3        20.367141  \n",
       "...         ...              ...  \n",
       "69995         2        21.378288  \n",
       "69996         1         3.707476  \n",
       "69997         0        23.809075  \n",
       "69998         2        15.708397  \n",
       "69999         2        30.796314  \n",
       "\n",
       "[70000 rows x 7 columns]"
      ]
     },
     "execution_count": 5,
     "metadata": {},
     "output_type": "execute_result"
    }
   ],
   "source": [
    "df_person_data"
   ]
  },
  {
   "cell_type": "markdown",
   "id": "083d723d",
   "metadata": {},
   "source": [
    "## Quick EDA\n",
    "\n",
    "The goals of these questions is to evaluate your plotting, data mangling, and plot interpretation skills.   \n",
    "Use whatever libraries you are comfortable with.   \n",
    "Code clarity and cleanliness are also highly valuable.   "
   ]
  },
  {
   "cell_type": "markdown",
   "id": "fdb3b861",
   "metadata": {},
   "source": [
    "### 1. Plot each district's house prices distribution with marking the mean by a vertical line\n"
   ]
  },
  {
   "cell_type": "code",
   "execution_count": 6,
   "id": "e9138b91",
   "metadata": {},
   "outputs": [
    {
     "data": {
      "image/png": "[encoded data removed]",
      "text/plain": [
       "<Figure size 864x576 with 1 Axes>"
      ]
     },
     "metadata": {
      "needs_background": "light"
     },
     "output_type": "display_data"
    }
   ],
   "source": [
    "plt.figure(figsize=(12,8))\n",
    "df_districts_house_prices.groupby([\"district\"]).house_price.mean().plot()\n",
    "plt.show()"
   ]
  },
  {
   "cell_type": "markdown",
   "id": "ed2385a3",
   "metadata": {},
   "source": [
    "### 2. Combine all of the three data sources into one table to use in further analysis. "
   ]
  },
  {
   "cell_type": "code",
   "execution_count": 7,
   "id": "0c4076ef",
   "metadata": {},
   "outputs": [],
   "source": [
    "combine_df = pd.concat([df_districts_house_prices, df_person_data, df_person_district], axis=1)"
   ]
  },
  {
   "cell_type": "code",
   "execution_count": 8,
   "id": "838b6e57-5441-4fc4-ada5-fb0983b37f85",
   "metadata": {},
   "outputs": [
    {
     "data": {
      "text/html": [
       "<div>\n",
       "<style scoped>\n",
       "    .dataframe tbody tr th:only-of-type {\n",
       "        vertical-align: middle;\n",
       "    }\n",
       "\n",
       "    .dataframe tbody tr th {\n",
       "        vertical-align: top;\n",
       "    }\n",
       "\n",
       "    .dataframe thead th {\n",
       "        text-align: right;\n",
       "    }\n",
       "</style>\n",
       "<table border=\"1\" class=\"dataframe\">\n",
       "  <thead>\n",
       "    <tr style=\"text-align: right;\">\n",
       "      <th></th>\n",
       "      <th>district</th>\n",
       "      <th>house_price</th>\n",
       "      <th>house_number</th>\n",
       "      <th>person_id</th>\n",
       "      <th>age</th>\n",
       "      <th>n_kids</th>\n",
       "      <th>n_vg</th>\n",
       "      <th>n_con</th>\n",
       "      <th>n_presub</th>\n",
       "      <th>n_hours_playing</th>\n",
       "      <th>person_id</th>\n",
       "      <th>district</th>\n",
       "    </tr>\n",
       "  </thead>\n",
       "  <tbody>\n",
       "    <tr>\n",
       "      <th>0</th>\n",
       "      <td>Celowsgan</td>\n",
       "      <td>160652.0</td>\n",
       "      <td>1.0</td>\n",
       "      <td>50c4c7e2-89a6-440b-a8e3-c44aa2c6150e</td>\n",
       "      <td>14.0</td>\n",
       "      <td>0</td>\n",
       "      <td>0</td>\n",
       "      <td>0</td>\n",
       "      <td>0</td>\n",
       "      <td>18.422745</td>\n",
       "      <td>50c4c7e2-89a6-440b-a8e3-c44aa2c6150e</td>\n",
       "      <td>Metdunstone</td>\n",
       "    </tr>\n",
       "    <tr>\n",
       "      <th>1</th>\n",
       "      <td>Celowsgan</td>\n",
       "      <td>159219.0</td>\n",
       "      <td>2.0</td>\n",
       "      <td>16f3bafb-9556-434e-adab-cb02f41fe32a</td>\n",
       "      <td>18.0</td>\n",
       "      <td>0</td>\n",
       "      <td>2</td>\n",
       "      <td>0</td>\n",
       "      <td>0</td>\n",
       "      <td>20.693273</td>\n",
       "      <td>16f3bafb-9556-434e-adab-cb02f41fe32a</td>\n",
       "      <td>Tashnerspool</td>\n",
       "    </tr>\n",
       "    <tr>\n",
       "      <th>2</th>\n",
       "      <td>Celowsgan</td>\n",
       "      <td>161543.0</td>\n",
       "      <td>3.0</td>\n",
       "      <td>0fa17eee-7214-4609-97fe-dd3093601800</td>\n",
       "      <td>28.0</td>\n",
       "      <td>0</td>\n",
       "      <td>3</td>\n",
       "      <td>0</td>\n",
       "      <td>0</td>\n",
       "      <td>22.412490</td>\n",
       "      <td>0fa17eee-7214-4609-97fe-dd3093601800</td>\n",
       "      <td>Tashnerspool</td>\n",
       "    </tr>\n",
       "    <tr>\n",
       "      <th>3</th>\n",
       "      <td>Celowsgan</td>\n",
       "      <td>158944.0</td>\n",
       "      <td>4.0</td>\n",
       "      <td>8db4ca66-dfb2-43f2-9c22-aa861dd0d218</td>\n",
       "      <td>20.0</td>\n",
       "      <td>1</td>\n",
       "      <td>72</td>\n",
       "      <td>0</td>\n",
       "      <td>0</td>\n",
       "      <td>299.187025</td>\n",
       "      <td>8db4ca66-dfb2-43f2-9c22-aa861dd0d218</td>\n",
       "      <td>Ulven</td>\n",
       "    </tr>\n",
       "    <tr>\n",
       "      <th>4</th>\n",
       "      <td>Celowsgan</td>\n",
       "      <td>164121.0</td>\n",
       "      <td>5.0</td>\n",
       "      <td>51fed64a-375e-417f-94e4-4d27c368ea44</td>\n",
       "      <td>32.0</td>\n",
       "      <td>1</td>\n",
       "      <td>58</td>\n",
       "      <td>1</td>\n",
       "      <td>3</td>\n",
       "      <td>20.367141</td>\n",
       "      <td>51fed64a-375e-417f-94e4-4d27c368ea44</td>\n",
       "      <td>Red Onvey</td>\n",
       "    </tr>\n",
       "  </tbody>\n",
       "</table>\n",
       "</div>"
      ],
      "text/plain": [
       "    district  house_price  house_number                             person_id  \\\n",
       "0  Celowsgan     160652.0           1.0  50c4c7e2-89a6-440b-a8e3-c44aa2c6150e   \n",
       "1  Celowsgan     159219.0           2.0  16f3bafb-9556-434e-adab-cb02f41fe32a   \n",
       "2  Celowsgan     161543.0           3.0  0fa17eee-7214-4609-97fe-dd3093601800   \n",
       "3  Celowsgan     158944.0           4.0  8db4ca66-dfb2-43f2-9c22-aa861dd0d218   \n",
       "4  Celowsgan     164121.0           5.0  51fed64a-375e-417f-94e4-4d27c368ea44   \n",
       "\n",
       "    age  n_kids  n_vg  n_con  n_presub  n_hours_playing  \\\n",
       "0  14.0       0     0      0         0        18.422745   \n",
       "1  18.0       0     2      0         0        20.693273   \n",
       "2  28.0       0     3      0         0        22.412490   \n",
       "3  20.0       1    72      0         0       299.187025   \n",
       "4  32.0       1    58      1         3        20.367141   \n",
       "\n",
       "                              person_id      district  \n",
       "0  50c4c7e2-89a6-440b-a8e3-c44aa2c6150e   Metdunstone  \n",
       "1  16f3bafb-9556-434e-adab-cb02f41fe32a  Tashnerspool  \n",
       "2  0fa17eee-7214-4609-97fe-dd3093601800  Tashnerspool  \n",
       "3  8db4ca66-dfb2-43f2-9c22-aa861dd0d218         Ulven  \n",
       "4  51fed64a-375e-417f-94e4-4d27c368ea44     Red Onvey  "
      ]
     },
     "execution_count": 8,
     "metadata": {},
     "output_type": "execute_result"
    }
   ],
   "source": [
    "combine_df.head()"
   ]
  },
  {
   "cell_type": "markdown",
   "id": "32cb7111",
   "metadata": {},
   "source": [
    "### 3. Plot age vs avg house price. What does this plot tell you? (younger people live in more expensive districts)"
   ]
  },
  {
   "cell_type": "code",
   "execution_count": 9,
   "id": "e1e7552e",
   "metadata": {},
   "outputs": [
    {
     "data": {
      "image/png": "[encoded data removed]",
      "text/plain": [
       "<Figure size 864x576 with 1 Axes>"
      ]
     },
     "metadata": {
      "needs_background": "light"
     },
     "output_type": "display_data"
    }
   ],
   "source": [
    "plt.figure(figsize=(12,8))\n",
    "avg_house_price = combine_df.groupby('age')['house_price'].mean()\n",
    "\n",
    "plt.plot(avg_house_price.index, avg_house_price.values)\n",
    "plt.xlabel('Age')\n",
    "plt.ylabel('Average House Price')\n",
    "plt.title('Age vs. Average House Price')\n",
    "\n",
    "plt.show()"
   ]
  },
  {
   "cell_type": "markdown",
   "id": "a8a65e38",
   "metadata": {},
   "source": [
    "## Probability and Statistics:\n",
    "\n",
    "The goal of these questions is to test your ability to answer probability and stat questions with code.   \n",
    "Use whatever libraries you are comfortable with.   \n",
    "Code clarity and cleanliness are also highly valuable.   \n"
   ]
  },
  {
   "cell_type": "markdown",
   "id": "5220db72",
   "metadata": {},
   "source": [
    "### 1. What's the probability of a customer having 2 kids"
   ]
  },
  {
   "cell_type": "code",
   "execution_count": 10,
   "id": "00c385f4",
   "metadata": {},
   "outputs": [
    {
     "name": "stdout",
     "output_type": "stream",
     "text": [
      "Probability of a customer having 2 kids: 0.10017142857142858\n"
     ]
    }
   ],
   "source": [
    "customers_with_2_kids = combine_df[combine_df['n_kids'] == 2]\n",
    "probability_2_kids = len(customers_with_2_kids) / len(combine_df)\n",
    "\n",
    "print(\"Probability of a customer having 2 kids:\", probability_2_kids)"
   ]
  },
  {
   "cell_type": "markdown",
   "id": "b10382bd",
   "metadata": {},
   "source": [
    "### 2. What's the probability of a customer owning more than 10 video games given that they have less than 2 kids"
   ]
  },
  {
   "cell_type": "code",
   "execution_count": 11,
   "id": "0b17da36",
   "metadata": {},
   "outputs": [
    {
     "name": "stdout",
     "output_type": "stream",
     "text": [
      "Probability of owning more than 10 video games given less than 2 kids: 0.4018363273453094\n"
     ]
    }
   ],
   "source": [
    "customers_less_than_2_kids = combine_df[combine_df['n_kids'] < 2]\n",
    "\n",
    "customers_more_than_10_vg = customers_less_than_2_kids[customers_less_than_2_kids['n_vg'] > 10]\n",
    "\n",
    "probability_more_than_10_vg_given_less_than_2_kids = len(customers_more_than_10_vg) / len(customers_less_than_2_kids)\n",
    "\n",
    "print(\"Probability of owning more than 10 video games given less than 2 kids:\", probability_more_than_10_vg_given_less_than_2_kids)"
   ]
  },
  {
   "cell_type": "markdown",
   "id": "d9b51792",
   "metadata": {},
   "source": [
    "### 3. Plot the distribution of the number of hours played by customers `n_hours_playing`. Briefly explain what you understand now about the customers' playing hours."
   ]
  },
  {
   "cell_type": "code",
   "execution_count": 12,
   "id": "ad086758",
   "metadata": {},
   "outputs": [
    {
     "data": {
      "image/png": "[encoded data removed]",
      "text/plain": [
       "<Figure size 720x432 with 1 Axes>"
      ]
     },
     "metadata": {
      "needs_background": "light"
     },
     "output_type": "display_data"
    }
   ],
   "source": [
    "plt.figure(figsize=(10,6))\n",
    "\n",
    "plt.hist(combine_df['n_hours_playing'], bins=10)\n",
    "plt.xlabel('Number of Hours Played')\n",
    "plt.ylabel('Frequency')\n",
    "plt.title('Distribution of Playing Hours')\n",
    "plt.show()"
   ]
  },
  {
   "cell_type": "markdown",
   "id": "e13e3405",
   "metadata": {},
   "source": [
    "As you can see, most customers have a number of hours less than 50 so let's go ahead and remove any values less than 50.  \n",
    "The distribution of the remaining values look like a normal distribution.  \n",
    "###  4. Estimate the parameters (mean and std deviation) of this normal distribution computationally.  \\\n",
    "### (Bonus: plot the estimated normal distribution on top of the distribution of `n_hours_playing` after removing values < 50)"
   ]
  },
  {
   "cell_type": "code",
   "execution_count": 13,
   "id": "61e1252c",
   "metadata": {},
   "outputs": [
    {
     "name": "stdout",
     "output_type": "stream",
     "text": [
      "Estimated Mean: 86.58507315764899\n",
      "Estimated Standard Deviation: 133.66556897706607\n"
     ]
    }
   ],
   "source": [
    "mean_hours = combine_df['n_hours_playing'].mean()\n",
    "std_hours = combine_df['n_hours_playing'].std()\n",
    "\n",
    "print(\"Estimated Mean:\", mean_hours)\n",
    "print(\"Estimated Standard Deviation:\", std_hours)"
   ]
  },
  {
   "cell_type": "code",
   "execution_count": 14,
   "id": "fe14a552-1e8c-4214-b650-2a9c08d74a3d",
   "metadata": {},
   "outputs": [
    {
     "data": {
      "image/png": "[encoded data removed]",
      "text/plain": [
       "<Figure size 864x576 with 1 Axes>"
      ]
     },
     "metadata": {
      "needs_background": "light"
     },
     "output_type": "display_data"
    }
   ],
   "source": [
    "filtered_hours = combine_df[combine_df['n_hours_playing'] >= 50]['n_hours_playing']\n",
    "\n",
    "mean_hours = filtered_hours.mean()\n",
    "std_hours = filtered_hours.std()\n",
    "\n",
    "x = np.linspace(filtered_hours.min(), filtered_hours.max(), 100)\n",
    "y = (1 / (std_hours * np.sqrt(2 * np.pi))) * np.exp(-(x - mean_hours)**2 / (2 * std_hours**2))\n",
    "\n",
    "plt.figure(figsize=(12,8))\n",
    "plt.hist(filtered_hours, bins=10, density=True, alpha=0.5, label='Actual Distribution')\n",
    "plt.plot(x, y, color='red', label='Estimated Normal Distribution')\n",
    "plt.xlabel('Number of Hours Played')\n",
    "plt.ylabel('Density')\n",
    "plt.title('Distribution of Playing Hours')\n",
    "plt.legend()\n",
    "plt.show()"
   ]
  },
  {
   "cell_type": "markdown",
   "id": "4c7aa592",
   "metadata": {},
   "source": [
    "# Modeling\n",
    "The goal of this is to showcase your experimentation and model comparison process.  \n",
    "The performance of models is not as important as how you compare them and evaluate them against each other.  \n",
    "\n",
    "Use whatever libraries you are comfortable with.   \n",
    "Code clarity and cleanliness are also highly valuable.   \n",
    "# Apply Different regression model \n",
    "# Apply two classffier Model for the data of classfication ( as per your choice)"
   ]
  },
  {
   "cell_type": "markdown",
   "id": "13efcd8c",
   "metadata": {},
   "source": [
    "### 1. Model the number of hours played for each customer. Show your experimentation with failed and successful models.\n",
    "### 2. Evaluate each experiment using appropriate metrics, cross validation, and plots. Show the predicted vs actual plot.\n",
    "### 3. Choose the best model for the data"
   ]
  },
  {
   "cell_type": "code",
   "execution_count": 15,
   "id": "6b45a24c-4433-4a3e-a350-a5435395ce16",
   "metadata": {},
   "outputs": [
    {
     "data": {
      "text/html": [
       "<div>\n",
       "<style scoped>\n",
       "    .dataframe tbody tr th:only-of-type {\n",
       "        vertical-align: middle;\n",
       "    }\n",
       "\n",
       "    .dataframe tbody tr th {\n",
       "        vertical-align: top;\n",
       "    }\n",
       "\n",
       "    .dataframe thead th {\n",
       "        text-align: right;\n",
       "    }\n",
       "</style>\n",
       "<table border=\"1\" class=\"dataframe\">\n",
       "  <thead>\n",
       "    <tr style=\"text-align: right;\">\n",
       "      <th></th>\n",
       "      <th>district</th>\n",
       "      <th>house_price</th>\n",
       "      <th>house_number</th>\n",
       "      <th>person_id</th>\n",
       "      <th>age</th>\n",
       "      <th>n_kids</th>\n",
       "      <th>n_vg</th>\n",
       "      <th>n_con</th>\n",
       "      <th>n_presub</th>\n",
       "      <th>n_hours_playing</th>\n",
       "      <th>person_id</th>\n",
       "      <th>district</th>\n",
       "    </tr>\n",
       "  </thead>\n",
       "  <tbody>\n",
       "    <tr>\n",
       "      <th>0</th>\n",
       "      <td>Celowsgan</td>\n",
       "      <td>160652.0</td>\n",
       "      <td>1.0</td>\n",
       "      <td>50c4c7e2-89a6-440b-a8e3-c44aa2c6150e</td>\n",
       "      <td>14.0</td>\n",
       "      <td>0</td>\n",
       "      <td>0</td>\n",
       "      <td>0</td>\n",
       "      <td>0</td>\n",
       "      <td>18.422745</td>\n",
       "      <td>50c4c7e2-89a6-440b-a8e3-c44aa2c6150e</td>\n",
       "      <td>Metdunstone</td>\n",
       "    </tr>\n",
       "    <tr>\n",
       "      <th>1</th>\n",
       "      <td>Celowsgan</td>\n",
       "      <td>159219.0</td>\n",
       "      <td>2.0</td>\n",
       "      <td>16f3bafb-9556-434e-adab-cb02f41fe32a</td>\n",
       "      <td>18.0</td>\n",
       "      <td>0</td>\n",
       "      <td>2</td>\n",
       "      <td>0</td>\n",
       "      <td>0</td>\n",
       "      <td>20.693273</td>\n",
       "      <td>16f3bafb-9556-434e-adab-cb02f41fe32a</td>\n",
       "      <td>Tashnerspool</td>\n",
       "    </tr>\n",
       "    <tr>\n",
       "      <th>2</th>\n",
       "      <td>Celowsgan</td>\n",
       "      <td>161543.0</td>\n",
       "      <td>3.0</td>\n",
       "      <td>0fa17eee-7214-4609-97fe-dd3093601800</td>\n",
       "      <td>28.0</td>\n",
       "      <td>0</td>\n",
       "      <td>3</td>\n",
       "      <td>0</td>\n",
       "      <td>0</td>\n",
       "      <td>22.412490</td>\n",
       "      <td>0fa17eee-7214-4609-97fe-dd3093601800</td>\n",
       "      <td>Tashnerspool</td>\n",
       "    </tr>\n",
       "    <tr>\n",
       "      <th>3</th>\n",
       "      <td>Celowsgan</td>\n",
       "      <td>158944.0</td>\n",
       "      <td>4.0</td>\n",
       "      <td>8db4ca66-dfb2-43f2-9c22-aa861dd0d218</td>\n",
       "      <td>20.0</td>\n",
       "      <td>1</td>\n",
       "      <td>72</td>\n",
       "      <td>0</td>\n",
       "      <td>0</td>\n",
       "      <td>299.187025</td>\n",
       "      <td>8db4ca66-dfb2-43f2-9c22-aa861dd0d218</td>\n",
       "      <td>Ulven</td>\n",
       "    </tr>\n",
       "    <tr>\n",
       "      <th>4</th>\n",
       "      <td>Celowsgan</td>\n",
       "      <td>164121.0</td>\n",
       "      <td>5.0</td>\n",
       "      <td>51fed64a-375e-417f-94e4-4d27c368ea44</td>\n",
       "      <td>32.0</td>\n",
       "      <td>1</td>\n",
       "      <td>58</td>\n",
       "      <td>1</td>\n",
       "      <td>3</td>\n",
       "      <td>20.367141</td>\n",
       "      <td>51fed64a-375e-417f-94e4-4d27c368ea44</td>\n",
       "      <td>Red Onvey</td>\n",
       "    </tr>\n",
       "  </tbody>\n",
       "</table>\n",
       "</div>"
      ],
      "text/plain": [
       "    district  house_price  house_number                             person_id  \\\n",
       "0  Celowsgan     160652.0           1.0  50c4c7e2-89a6-440b-a8e3-c44aa2c6150e   \n",
       "1  Celowsgan     159219.0           2.0  16f3bafb-9556-434e-adab-cb02f41fe32a   \n",
       "2  Celowsgan     161543.0           3.0  0fa17eee-7214-4609-97fe-dd3093601800   \n",
       "3  Celowsgan     158944.0           4.0  8db4ca66-dfb2-43f2-9c22-aa861dd0d218   \n",
       "4  Celowsgan     164121.0           5.0  51fed64a-375e-417f-94e4-4d27c368ea44   \n",
       "\n",
       "    age  n_kids  n_vg  n_con  n_presub  n_hours_playing  \\\n",
       "0  14.0       0     0      0         0        18.422745   \n",
       "1  18.0       0     2      0         0        20.693273   \n",
       "2  28.0       0     3      0         0        22.412490   \n",
       "3  20.0       1    72      0         0       299.187025   \n",
       "4  32.0       1    58      1         3        20.367141   \n",
       "\n",
       "                              person_id      district  \n",
       "0  50c4c7e2-89a6-440b-a8e3-c44aa2c6150e   Metdunstone  \n",
       "1  16f3bafb-9556-434e-adab-cb02f41fe32a  Tashnerspool  \n",
       "2  0fa17eee-7214-4609-97fe-dd3093601800  Tashnerspool  \n",
       "3  8db4ca66-dfb2-43f2-9c22-aa861dd0d218         Ulven  \n",
       "4  51fed64a-375e-417f-94e4-4d27c368ea44     Red Onvey  "
      ]
     },
     "execution_count": 15,
     "metadata": {},
     "output_type": "execute_result"
    }
   ],
   "source": [
    "combine_df.head()"
   ]
  },
  {
   "cell_type": "code",
   "execution_count": 16,
   "id": "6142a4fc",
   "metadata": {},
   "outputs": [
    {
     "name": "stdout",
     "output_type": "stream",
     "text": [
      "<class 'pandas.core.frame.DataFrame'>\n",
      "Int64Index: 70000 entries, 0 to 69999\n",
      "Data columns (total 12 columns):\n",
      " #   Column           Non-Null Count  Dtype  \n",
      "---  ------           --------------  -----  \n",
      " 0   district         1363 non-null   object \n",
      " 1   house_price      1352 non-null   float64\n",
      " 2   house_number     1363 non-null   float64\n",
      " 3   person_id        70000 non-null  object \n",
      " 4   age              69990 non-null  float64\n",
      " 5   n_kids           70000 non-null  int64  \n",
      " 6   n_vg             70000 non-null  int64  \n",
      " 7   n_con            70000 non-null  int64  \n",
      " 8   n_presub         70000 non-null  int64  \n",
      " 9   n_hours_playing  70000 non-null  float64\n",
      " 10  person_id        70000 non-null  object \n",
      " 11  district         70000 non-null  object \n",
      "dtypes: float64(4), int64(4), object(4)\n",
      "memory usage: 6.9+ MB\n"
     ]
    }
   ],
   "source": [
    "combine_df.info()"
   ]
  },
  {
   "cell_type": "code",
   "execution_count": 17,
   "id": "9449dbaa",
   "metadata": {},
   "outputs": [
    {
     "data": {
      "text/plain": [
       "district           68637\n",
       "house_price        68648\n",
       "house_number       68637\n",
       "person_id              0\n",
       "age                   10\n",
       "n_kids                 0\n",
       "n_vg                   0\n",
       "n_con                  0\n",
       "n_presub               0\n",
       "n_hours_playing        0\n",
       "person_id              0\n",
       "district               0\n",
       "dtype: int64"
      ]
     },
     "execution_count": 17,
     "metadata": {},
     "output_type": "execute_result"
    }
   ],
   "source": [
    "combine_df.isnull().sum()"
   ]
  },
  {
   "cell_type": "code",
   "execution_count": 18,
   "id": "613fdefb",
   "metadata": {},
   "outputs": [],
   "source": [
    "combine_df.drop([\"person_id\", \"district\", \"house_price\", \"house_number\"], axis=1, inplace=True)"
   ]
  },
  {
   "cell_type": "code",
   "execution_count": 19,
   "id": "c8d0fd25",
   "metadata": {},
   "outputs": [
    {
     "data": {
      "text/plain": [
       "age                10\n",
       "n_kids              0\n",
       "n_vg                0\n",
       "n_con               0\n",
       "n_presub            0\n",
       "n_hours_playing     0\n",
       "dtype: int64"
      ]
     },
     "execution_count": 19,
     "metadata": {},
     "output_type": "execute_result"
    }
   ],
   "source": [
    "combine_df.isnull().sum()"
   ]
  },
  {
   "cell_type": "code",
   "execution_count": 20,
   "id": "9e606a73",
   "metadata": {},
   "outputs": [],
   "source": [
    "combine_df[\"age\"] = combine_df[\"age\"].fillna(combine_df[\"age\"].mode()[0])"
   ]
  },
  {
   "cell_type": "code",
   "execution_count": 21,
   "id": "7ffc4740-a24d-4b29-b992-30a71271aec3",
   "metadata": {},
   "outputs": [
    {
     "data": {
      "text/plain": [
       "0"
      ]
     },
     "execution_count": 21,
     "metadata": {},
     "output_type": "execute_result"
    }
   ],
   "source": [
    "combine_df[\"age\"].isnull().sum()"
   ]
  },
  {
   "cell_type": "code",
   "execution_count": 22,
   "id": "a58c6636",
   "metadata": {},
   "outputs": [
    {
     "name": "stdout",
     "output_type": "stream",
     "text": [
      "<class 'pandas.core.frame.DataFrame'>\n",
      "Int64Index: 70000 entries, 0 to 69999\n",
      "Data columns (total 6 columns):\n",
      " #   Column           Non-Null Count  Dtype  \n",
      "---  ------           --------------  -----  \n",
      " 0   age              70000 non-null  float64\n",
      " 1   n_kids           70000 non-null  int64  \n",
      " 2   n_vg             70000 non-null  int64  \n",
      " 3   n_con            70000 non-null  int64  \n",
      " 4   n_presub         70000 non-null  int64  \n",
      " 5   n_hours_playing  70000 non-null  float64\n",
      "dtypes: float64(2), int64(4)\n",
      "memory usage: 3.7 MB\n"
     ]
    }
   ],
   "source": [
    "combine_df.info()"
   ]
  },
  {
   "cell_type": "code",
   "execution_count": 23,
   "id": "8e02ebda-adff-4e38-b0d2-74a3ebbcb6cc",
   "metadata": {},
   "outputs": [],
   "source": [
    "X = combine_df.drop(columns=['n_hours_playing'], axis=1)\n",
    "y = combine_df['n_hours_playing']"
   ]
  },
  {
   "cell_type": "code",
   "execution_count": 37,
   "id": "1afd730b-8190-44e9-86ec-a58357e0d705",
   "metadata": {},
   "outputs": [],
   "source": [
    "from sklearn.model_selection import train_test_split\n",
    "x_train, x_test, y_train, y_test = train_test_split(X, y, test_size=0.25, random_state=42)"
   ]
  },
  {
   "cell_type": "markdown",
   "id": "82e15e01-0ac6-43b7-b181-2207147b33ed",
   "metadata": {},
   "source": [
    "### Linear Regression:"
   ]
  },
  {
   "cell_type": "code",
   "execution_count": 54,
   "id": "86c413a0-2e56-4068-98e3-6fb1416b81ec",
   "metadata": {},
   "outputs": [],
   "source": [
    "import numpy as np\n",
    "import matplotlib.pyplot as plt\n",
    "from sklearn.model_selection import train_test_split, cross_val_score\n",
    "from sklearn.metrics import mean_squared_error, r2_score\n",
    "\n",
    "def classify(model, x, y):\n",
    "    x_train, x_test, y_train, y_test = train_test_split(x, y, test_size=0.25, random_state=42)\n",
    "    model.fit(x_train, y_train)\n",
    "    \n",
    "    # Print accuracy\n",
    "    accuracy = model.score(x_test, y_test) * 100\n",
    "    print(\"Accuracy:\", accuracy)\n",
    "    \n",
    "    # Perform cross-validation and obtain the predicted values\n",
    "    y_pred_cv = cross_val_predict(model, x, y, cv=5)\n",
    "    \n",
    "    # Calculate the Mean Squared Error (MSE) and R-squared score\n",
    "    mse = mean_squared_error(y, y_pred_cv)\n",
    "    r2 = r2_score(y, y_pred_cv)\n",
    "    print(\"Cross-Validated MSE:\", mse)\n",
    "    print(\"Cross-Validated R-squared:\", r2)\n",
    "    print(\"Mean Square Error\", mse)\n",
    "    print(\"R2 Score:\", r2)\n",
    "\n",
    "    # Create a scatter plot of predicted vs. actual values\n",
    "    plt.scatter(y, y_pred_cv, alpha=0.5)\n",
    "    plt.plot([y.min(), y.max()], [y.min(), y.max()], color='red', linestyle='--')\n",
    "    plt.xlabel('Actual')\n",
    "    plt.ylabel('Predicted')\n",
    "    plt.title('Predicted vs. Actual')\n",
    "    plt.show()\n",
    "    "
   ]
  },
  {
   "cell_type": "code",
   "execution_count": 55,
   "id": "2ecbdac9-0b40-420f-b388-84d9a70c80b4",
   "metadata": {},
   "outputs": [
    {
     "name": "stdout",
     "output_type": "stream",
     "text": [
      "Accuracy: 81.58432973501577\n",
      "Cross-Validated MSE: 3309.951580191147\n",
      "Cross-Validated R-squared: 0.8147369787609401\n",
      "Mean Square Error 3309.951580191147\n",
      "R2 Score: 0.8147369787609401\n"
     ]
    },
    {
     "data": {
      "image/png": "[encoded data removed]",
      "text/plain": [
       "<Figure size 432x288 with 1 Axes>"
      ]
     },
     "metadata": {
      "needs_background": "light"
     },
     "output_type": "display_data"
    }
   ],
   "source": [
    "# Create the Linear Regression model\n",
    "from sklearn.linear_model import LinearRegression\n",
    "linreg_model = LinearRegression()\n",
    "classify(linreg_model, X, y)"
   ]
  },
  {
   "cell_type": "markdown",
   "id": "6eea436a-ad8c-4d73-922b-0de8e47647e6",
   "metadata": {},
   "source": [
    "### Decision Tree Regressor:"
   ]
  },
  {
   "cell_type": "code",
   "execution_count": 56,
   "id": "a5fb8a05-31b6-48a4-873b-583602f819bc",
   "metadata": {},
   "outputs": [],
   "source": [
    "from sklearn.tree import DecisionTreeRegressor\n",
    "tree_model = DecisionTreeRegressor()"
   ]
  },
  {
   "cell_type": "code",
   "execution_count": 57,
   "id": "b81ab339-0e56-49bb-bbc5-49a6851d7b64",
   "metadata": {},
   "outputs": [
    {
     "name": "stdout",
     "output_type": "stream",
     "text": [
      "Accuracy: 94.73994109080012\n",
      "Cross-Validated MSE: 979.5886319592365\n",
      "Cross-Validated R-squared: 0.9451709352443985\n",
      "Mean Square Error 979.5886319592365\n",
      "R2 Score: 0.9451709352443985\n"
     ]
    },
    {
     "data": {
      "image/png": "[encoded data removed]",
      "text/plain": [
       "<Figure size 432x288 with 1 Axes>"
      ]
     },
     "metadata": {
      "needs_background": "light"
     },
     "output_type": "display_data"
    }
   ],
   "source": [
    "classify(tree_model, X, y)"
   ]
  },
  {
   "cell_type": "code",
   "execution_count": null,
   "id": "25037ce3-4119-47ac-ab36-59201931e1d1",
   "metadata": {},
   "outputs": [],
   "source": []
  }
 ],
 "metadata": {
  "kernelspec": {
   "display_name": "Python 3 (ipykernel)",
   "language": "python",
   "name": "python3"
  },
  "language_info": {
   "codemirror_mode": {
    "name": "ipython",
    "version": 3
   },
   "file_extension": ".py",
   "mimetype": "text/x-python",
   "name": "python",
   "nbconvert_exporter": "python",
   "pygments_lexer": "ipython3",
   "version": "3.8.10"
  }
 },
 "nbformat": 4,
 "nbformat_minor": 5
}
